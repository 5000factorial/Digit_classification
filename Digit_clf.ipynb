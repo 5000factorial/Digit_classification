{
 "cells": [
  {
   "cell_type": "code",
   "execution_count": 1,
   "metadata": {},
   "outputs": [],
   "source": [
    "import cv2\n",
    "import numpy as np\n",
    "import pandas as pd\n",
    "%matplotlib inline\n",
    "import matplotlib\n",
    "import matplotlib.pyplot as plt"
   ]
  },
  {
   "cell_type": "code",
   "execution_count": 2,
   "metadata": {},
   "outputs": [],
   "source": [
    "def viewImage(image, name_of_window):\n",
    "    cv2.namedWindow(name_of_window, cv2.WINDOW_NORMAL)\n",
    "    cv2.imshow(name_of_window, image)\n",
    "    cv2.waitKey(0)\n",
    "    cv2.destroyAllWindows()"
   ]
  },
  {
   "cell_type": "markdown",
   "metadata": {},
   "source": [
    "загрузка и изменение размера"
   ]
  },
  {
   "cell_type": "code",
   "execution_count": 3,
   "metadata": {},
   "outputs": [],
   "source": [
    "image = cv2.imread(\"1.jpg\")\n",
    "k = image.shape[0]/image.shape[1]\n",
    "width = 1024\n",
    "height = int(1024 * k)\n",
    "dim = (width, height)\n",
    "# resize image\n",
    "image = cv2.resize(image, dim)\n",
    "viewImage(image,'1')"
   ]
  },
  {
   "cell_type": "markdown",
   "metadata": {},
   "source": [
    "фильтрация"
   ]
  },
  {
   "cell_type": "code",
   "execution_count": 4,
   "metadata": {},
   "outputs": [],
   "source": [
    "gray_image = cv2.cvtColor(image, cv2.COLOR_BGR2GRAY)\n",
    "ret, threshold_image = cv2.threshold(gray_image, 140, 255, 0)\n",
    "viewImage(threshold_image, \"чб\")"
   ]
  },
  {
   "cell_type": "code",
   "execution_count": 5,
   "metadata": {},
   "outputs": [],
   "source": [
    "kernel = np.ones((2,2),np.uint8)\n",
    "dilate = cv2.dilate(threshold_image,kernel,iterations=3)\n",
    "\n",
    "dst = cv2.erode(dilate, kernel,iterations=5)\n",
    "\n",
    "viewImage(dst, \"чб\")\n",
    "im = dst"
   ]
  },
  {
   "cell_type": "markdown",
   "metadata": {},
   "source": [
    "Разделение на символы"
   ]
  },
  {
   "cell_type": "markdown",
   "metadata": {},
   "source": [
    "удаление пустых строк сверху и снизу"
   ]
  },
  {
   "cell_type": "code",
   "execution_count": 6,
   "metadata": {},
   "outputs": [],
   "source": [
    "def del_null_rows(im):\n",
    "    null_row = [np.all(im[i,:] == 255) for i in range(im.shape[0])]\n",
    "    if False in null_row:\n",
    "        not_null_row_arg = null_row.index(False)\n",
    "    else:\n",
    "        not_null_row_arg = 0\n",
    "    if False in list(reversed(null_row)):\n",
    "        not_null_row_arg_end = list(reversed(null_row)).index(False)\n",
    "        if not_null_row_arg_end == 0:\n",
    "            not_null_row_arg_end = 1\n",
    "    else:\n",
    "        not_null_row_arg_end = 1\n",
    "    im = im[not_null_row_arg:-not_null_row_arg_end,:]\n",
    "    return im\n"
   ]
  },
  {
   "cell_type": "markdown",
   "metadata": {},
   "source": [
    "удаление пустых столбцов"
   ]
  },
  {
   "cell_type": "code",
   "execution_count": 7,
   "metadata": {},
   "outputs": [],
   "source": [
    "def del_null_cols(im):\n",
    "    null_col = [np.all(im[:,i] == 255) for i in range(im.shape[1])]   \n",
    "    if False in null_col:\n",
    "        not_null_col_arg = null_col.index(False)\n",
    "    else:\n",
    "        not_null_col_arg = 0\n",
    "    if False in list(reversed(null_col)):\n",
    "        not_null_col_arg_end = list(reversed(null_col)).index(False)\n",
    "        if not_null_col_arg_end == 0:\n",
    "            not_null_col_arg_end = 1\n",
    "    else:\n",
    "        not_null_col_arg_end = 1\n",
    "    im = im[:,not_null_col_arg:-not_null_col_arg_end]\n",
    "    return im"
   ]
  },
  {
   "cell_type": "code",
   "execution_count": 8,
   "metadata": {},
   "outputs": [],
   "source": [
    "im = del_null_rows(im)\n",
    "im = del_null_cols(im)\n",
    "im.shape\n",
    "viewImage(im, \"чб\")"
   ]
  },
  {
   "cell_type": "markdown",
   "metadata": {},
   "source": [
    "разделение на символы"
   ]
  },
  {
   "cell_type": "code",
   "execution_count": 9,
   "metadata": {},
   "outputs": [],
   "source": [
    "def split_nums(im):\n",
    "    null_col = [np.all(im[:,i] == 255) for i in range(im.shape[1])] \n",
    "    space_n = int(im.shape[1]*0.01)\n",
    "    space = [True for x in range(space_n)]\n",
    "    nums = []\n",
    "    while False in null_col:\n",
    "        space_arg = -1\n",
    "        for i in range(len(null_col)-space_n):\n",
    "            if null_col[i:i+space_n] == space:\n",
    "                space_arg = i\n",
    "                break\n",
    "        nums.append(im[:,:space_arg])\n",
    "        im = im[:,space_arg:]\n",
    "        im = del_null_cols(im)\n",
    "        null_col = [np.all(im[:,i] == 255) for i in range(im.shape[1])] \n",
    "    return nums"
   ]
  },
  {
   "cell_type": "code",
   "execution_count": 10,
   "metadata": {},
   "outputs": [],
   "source": [
    "nums = split_nums(im)\n",
    "#for num in nums:\n",
    "    #viewImage(num, \"чб\")"
   ]
  },
  {
   "cell_type": "markdown",
   "metadata": {},
   "source": [
    "приводим к квадратному виду и 28х28"
   ]
  },
  {
   "cell_type": "code",
   "execution_count": 11,
   "metadata": {},
   "outputs": [],
   "source": [
    "def to_mnist(im):\n",
    "    if 255 in im:\n",
    "        im[im == 0] = 1\n",
    "        im[im == 255] = 0\n",
    "    if im.shape[0]>im.shape[1]:\n",
    "        n = im.shape[0] - im.shape[1]\n",
    "        field = np.zeros((im.shape[0], int(n/2)))\n",
    "        im = np.concatenate((field, im, field), axis=1)\n",
    "        if im.shape[0]!= im.shape[1]:\n",
    "            im = np.concatenate((im, np.zeros((im.shape[0], 1))), axis=1)\n",
    "    else: \n",
    "        n = im.shape[1] - im.shape[0]\n",
    "        field = np.zeros((int(n/2),im.shape[1]))\n",
    "        im = np.concatenate((field, im, field), axis=0)\n",
    "        if im.shape[0]!= im.shape[1]:\n",
    "            im = np.concatenate((im, np.zeros((1,im.shape[1]))), axis=0)\n",
    "    im = cv2.resize(im, (28,28))\n",
    "    return im\n"
   ]
  },
  {
   "cell_type": "code",
   "execution_count": 12,
   "metadata": {
    "scrolled": false
   },
   "outputs": [
    {
     "name": "stdout",
     "output_type": "stream",
     "text": [
      "(28, 28)\n"
     ]
    },
    {
     "data": {
      "image/png": "[encoded data removed]",
      "text/plain": [
       "<Figure size 432x288 with 1 Axes>"
      ]
     },
     "metadata": {
      "needs_background": "light"
     },
     "output_type": "display_data"
    },
    {
     "name": "stdout",
     "output_type": "stream",
     "text": [
      "(28, 28)\n"
     ]
    },
    {
     "data": {
      "image/png": "[encoded data removed]",
      "text/plain": [
       "<Figure size 432x288 with 1 Axes>"
      ]
     },
     "metadata": {
      "needs_background": "light"
     },
     "output_type": "display_data"
    },
    {
     "name": "stdout",
     "output_type": "stream",
     "text": [
      "(28, 28)\n"
     ]
    },
    {
     "data": {
      "image/png": "[encoded data removed]",
      "text/plain": [
       "<Figure size 432x288 with 1 Axes>"
      ]
     },
     "metadata": {
      "needs_background": "light"
     },
     "output_type": "display_data"
    }
   ],
   "source": [
    "nums28 = []\n",
    "for i in nums:\n",
    "    c = to_mnist(i)\n",
    "    print(c.shape)\n",
    "    nums28.append(c)\n",
    "    plt.imshow(c, cmap = matplotlib.cm.binary, interpolation='nearest')\n",
    "    plt.axis('off')\n",
    "    plt.show()"
   ]
  },
  {
   "cell_type": "code",
   "execution_count": 13,
   "metadata": {},
   "outputs": [],
   "source": [
    "train = pd.read_csv('train.csv')\n",
    "target = train['label'].values\n",
    "train.drop('label', axis=1, inplace=True)\n",
    "train = train.values"
   ]
  },
  {
   "cell_type": "code",
   "execution_count": 14,
   "metadata": {},
   "outputs": [],
   "source": [
    "from sklearn.decomposition import PCA\n",
    "from sklearn.svm import SVC\n",
    "from sklearn.pipeline import Pipeline # useful to tie the two together\n",
    "\n",
    "# setting up the components\n",
    "pca = ('pca', PCA(n_components = 50)) # I did play with the parameter\n",
    "svc = ('svc', SVC(kernel = 'poly'))\n",
    "\n",
    "# gluing into a pipe\n",
    "estimators = [\n",
    "    pca,\n",
    "    svc\n",
    "]\n",
    "clf = Pipeline(estimators)\n"
   ]
  },
  {
   "cell_type": "markdown",
   "metadata": {},
   "source": [
    "from sklearn.model_selection import train_test_split\n",
    "features_train, features_test, labels_train, labels_test = train_test_split(train, target, test_size=0.2, random_state=42)\n",
    "\n",
    "clf.fit(features_train, labels_train)\n",
    "print(clf.score(features_test, labels_test))"
   ]
  },
  {
   "cell_type": "code",
   "execution_count": 15,
   "metadata": {},
   "outputs": [
    {
     "name": "stderr",
     "output_type": "stream",
     "text": [
      "F:\\Apps\\Anaconda\\lib\\site-packages\\sklearn\\svm\\base.py:193: FutureWarning: The default value of gamma will change from 'auto' to 'scale' in version 0.22 to account better for unscaled features. Set gamma explicitly to 'auto' or 'scale' to avoid this warning.\n",
      "  \"avoid this warning.\", FutureWarning)\n"
     ]
    },
    {
     "data": {
      "text/plain": [
       "Pipeline(memory=None,\n",
       "         steps=[('pca',\n",
       "                 PCA(copy=True, iterated_power='auto', n_components=50,\n",
       "                     random_state=None, svd_solver='auto', tol=0.0,\n",
       "                     whiten=False)),\n",
       "                ('svc',\n",
       "                 SVC(C=1.0, cache_size=200, class_weight=None, coef0=0.0,\n",
       "                     decision_function_shape='ovr', degree=3,\n",
       "                     gamma='auto_deprecated', kernel='poly', max_iter=-1,\n",
       "                     probability=False, random_state=None, shrinking=True,\n",
       "                     tol=0.001, verbose=False))],\n",
       "         verbose=False)"
      ]
     },
     "execution_count": 15,
     "metadata": {},
     "output_type": "execute_result"
    }
   ],
   "source": [
    "clf.fit(train, target)"
   ]
  },
  {
   "cell_type": "code",
   "execution_count": 16,
   "metadata": {},
   "outputs": [
    {
     "data": {
      "text/plain": [
       "array([5, 5, 5, 5], dtype=int64)"
      ]
     },
     "execution_count": 16,
     "metadata": {},
     "output_type": "execute_result"
    }
   ],
   "source": [
    "test = np.zeros(shape=(len(nums28)+1,784))\n",
    "for i,num in enumerate(nums28):\n",
    "    num = np.reshape(num,784)\n",
    "    test[i] = num\n",
    "results = clf.predict(test)\n",
    "results"
   ]
  },
  {
   "cell_type": "code",
   "execution_count": 17,
   "metadata": {},
   "outputs": [
    {
     "name": "stdout",
     "output_type": "stream",
     "text": [
      "7\n"
     ]
    },
    {
     "data": {
      "image/png": "[encoded data removed]",
      "text/plain": [
       "<Figure size 432x288 with 1 Axes>"
      ]
     },
     "metadata": {
      "needs_background": "light"
     },
     "output_type": "display_data"
    }
   ],
   "source": [
    "some_digit = train[88]\n",
    "some_digit_image = some_digit.reshape(28,28)\n",
    "plt.imshow(some_digit_image, cmap = matplotlib.cm.binary, interpolation='nearest')\n",
    "plt.axis('off')\n",
    "print(target[47])\n",
    "plt.show()"
   ]
  },
  {
   "cell_type": "code",
   "execution_count": 18,
   "metadata": {},
   "outputs": [
    {
     "data": {
      "image/png": "[encoded data removed]",
      "text/plain": [
       "<Figure size 432x288 with 1 Axes>"
      ]
     },
     "metadata": {
      "needs_background": "light"
     },
     "output_type": "display_data"
    }
   ],
   "source": [
    "some_digit = test[0]\n",
    "some_digit_image = some_digit.reshape(28,28)\n",
    "plt.imshow(some_digit_image, cmap = matplotlib.cm.binary, interpolation='nearest')\n",
    "plt.axis('off')\n",
    "plt.show()"
   ]
  },
  {
   "cell_type": "code",
   "execution_count": null,
   "metadata": {},
   "outputs": [],
   "source": []
  }
 ],
 "metadata": {
  "kernelspec": {
   "display_name": "Python 3",
   "language": "python",
   "name": "python3"
  },
  "language_info": {
   "codemirror_mode": {
    "name": "ipython",
    "version": 3
   },
   "file_extension": ".py",
   "mimetype": "text/x-python",
   "name": "python",
   "nbconvert_exporter": "python",
   "pygments_lexer": "ipython3",
   "version": "3.7.3"
  }
 },
 "nbformat": 4,
 "nbformat_minor": 2
}
