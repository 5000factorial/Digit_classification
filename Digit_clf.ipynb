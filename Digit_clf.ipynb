{
 "cells": [
  {
   "cell_type": "code",
   "execution_count": 1,
   "metadata": {},
   "outputs": [],
   "source": [
    "import cv2\n",
    "import numpy as np\n",
    "import pandas as pd\n",
    "%matplotlib inline\n",
    "import matplotlib\n",
    "import matplotlib.pyplot as plt"
   ]
  },
  {
   "cell_type": "code",
   "execution_count": 2,
   "metadata": {},
   "outputs": [],
   "source": [
    "def viewImage(image, name_of_window):\n",
    "    cv2.namedWindow(name_of_window, cv2.WINDOW_NORMAL)\n",
    "    cv2.imshow(name_of_window, image)\n",
    "    cv2.waitKey(0)\n",
    "    cv2.destroyAllWindows()"
   ]
  },
  {
   "cell_type": "markdown",
   "metadata": {},
   "source": [
    "загрузка и изменение размера"
   ]
  },
  {
   "cell_type": "code",
   "execution_count": 3,
   "metadata": {},
   "outputs": [],
   "source": [
    "image = cv2.imread(\"8.png\")\n",
    "k = image.shape[0]/image.shape[1]\n",
    "width = 1024\n",
    "height = int(1024 * k)\n",
    "dim = (width, height)\n",
    "# resize image\n",
    "image = cv2.resize(image, dim)\n",
    "viewImage(image,'1')"
   ]
  },
  {
   "cell_type": "markdown",
   "metadata": {},
   "source": [
    "фильтрация"
   ]
  },
  {
   "cell_type": "code",
   "execution_count": 4,
   "metadata": {},
   "outputs": [],
   "source": [
    "im = cv2.cvtColor(image, cv2.COLOR_BGR2GRAY)\n",
    "#ret, im = cv2.threshold(im, 110, 255, 0)\n",
    "im = cv2.adaptiveThreshold(im, 255, cv2.ADAPTIVE_THRESH_MEAN_C, cv2.THRESH_BINARY, 51, 17)\n",
    "viewImage(im, \"чб\")\n",
    "\n",
    "kernel = np.ones((3,3),np.uint8)\n",
    "\n",
    "im = cv2.dilate(im,kernel,iterations=3)\n",
    "viewImage(im, \"dilate\")\n",
    "\n",
    "kernel = np.ones((3,3),np.uint8)\n",
    "im = cv2.erode(im, kernel,iterations=5)\n",
    "viewImage(im, \"erode\")\n"
   ]
  },
  {
   "cell_type": "markdown",
   "metadata": {},
   "source": [
    "Разделение на символы"
   ]
  },
  {
   "cell_type": "markdown",
   "metadata": {},
   "source": [
    "удаление пустых строк сверху и снизу"
   ]
  },
  {
   "cell_type": "code",
   "execution_count": 5,
   "metadata": {},
   "outputs": [],
   "source": [
    "def del_null_rows(im, bg_col = 255):\n",
    "    null_row = [np.all(im[i,:] == bg_col) for i in range(im.shape[0])]\n",
    "    if False in null_row:\n",
    "        not_null_row_arg = null_row.index(False)\n",
    "    else:\n",
    "        not_null_row_arg = 0\n",
    "    if False in list(reversed(null_row)):\n",
    "        not_null_row_arg_end = list(reversed(null_row)).index(False)\n",
    "        if not_null_row_arg_end == 0:\n",
    "            not_null_row_arg_end = 1\n",
    "    else:\n",
    "        not_null_row_arg_end = 1\n",
    "    im = im[not_null_row_arg:-not_null_row_arg_end,:]\n",
    "    return im\n"
   ]
  },
  {
   "cell_type": "markdown",
   "metadata": {},
   "source": [
    "удаление пустых столбцов"
   ]
  },
  {
   "cell_type": "code",
   "execution_count": 6,
   "metadata": {},
   "outputs": [],
   "source": [
    "def del_null_cols(im, bg_col = 255):\n",
    "    null_col = [np.all(im[:,i] == bg_col) for i in range(im.shape[1])]   \n",
    "    if False in null_col:\n",
    "        not_null_col_arg = null_col.index(False)\n",
    "    else:\n",
    "        not_null_col_arg = 0\n",
    "    if False in list(reversed(null_col)):\n",
    "        not_null_col_arg_end = list(reversed(null_col)).index(False)\n",
    "        if not_null_col_arg_end == 0:\n",
    "            not_null_col_arg_end = 1\n",
    "    else:\n",
    "        not_null_col_arg_end = 1\n",
    "    im = im[:,not_null_col_arg:-not_null_col_arg_end]\n",
    "    return im"
   ]
  },
  {
   "cell_type": "code",
   "execution_count": 7,
   "metadata": {},
   "outputs": [],
   "source": [
    "im = del_null_rows(im)\n",
    "im = del_null_cols(im)\n",
    "im.shape\n",
    "viewImage(im, \"чб\")"
   ]
  },
  {
   "cell_type": "markdown",
   "metadata": {},
   "source": [
    "разделение на символы"
   ]
  },
  {
   "cell_type": "code",
   "execution_count": 8,
   "metadata": {},
   "outputs": [],
   "source": [
    "def split_nums(im):\n",
    "    null_col = [np.all(im[:,i] == 255) for i in range(im.shape[1])] \n",
    "    space_n = int(im.shape[1]*0.01)\n",
    "    space = [True for x in range(space_n)]\n",
    "    nums = []\n",
    "    while False in null_col:\n",
    "        space_arg = -1\n",
    "        for i in range(len(null_col)-space_n):\n",
    "            if null_col[i:i+space_n] == space:\n",
    "                space_arg = i\n",
    "                break\n",
    "        im = del_null_cols(im)\n",
    "        im = del_null_rows(im)\n",
    "        nums.append(im[:,:space_arg])\n",
    "        im = im[:,space_arg:]\n",
    "        null_col = [np.all(im[:,i] == 255) for i in range(im.shape[1])] \n",
    "    return nums"
   ]
  },
  {
   "cell_type": "code",
   "execution_count": 9,
   "metadata": {},
   "outputs": [],
   "source": [
    "nums = split_nums(im)"
   ]
  },
  {
   "cell_type": "markdown",
   "metadata": {},
   "source": [
    "приводим к квадратному виду и 28х28"
   ]
  },
  {
   "cell_type": "code",
   "execution_count": 10,
   "metadata": {},
   "outputs": [],
   "source": [
    "def to_mnist(im):\n",
    "    if 255 in im:\n",
    "        im[im == 0] = 1\n",
    "        im[im == 255] = 0\n",
    "    im = del_null_cols(im,0)\n",
    "    im = del_null_rows(im,0)\n",
    "    if im.shape[0]>im.shape[1]:\n",
    "        n = im.shape[0] - im.shape[1]\n",
    "        field = np.zeros((im.shape[0], int(n/2)))\n",
    "        im = np.concatenate((field, im, field), axis=1)\n",
    "        if im.shape[0]!= im.shape[1]:\n",
    "            im = np.concatenate((im, np.zeros((im.shape[0], 1))), axis=1)\n",
    "    else: \n",
    "        n = im.shape[1] - im.shape[0]\n",
    "        field = np.zeros((int(n/2),im.shape[1]))\n",
    "        im = np.concatenate((field, im, field), axis=0)\n",
    "        if im.shape[0]!= im.shape[1]:\n",
    "            im = np.concatenate((im, np.zeros((1,im.shape[1]))), axis=0)\n",
    "    im = cv2.resize(im, (28,28))\n",
    "    return im\n"
   ]
  },
  {
   "cell_type": "code",
   "execution_count": 11,
   "metadata": {
    "scrolled": false
   },
   "outputs": [
    {
     "name": "stdout",
     "output_type": "stream",
     "text": [
      "(241, 96)\n",
      "(28, 28)\n"
     ]
    },
    {
     "data": {
      "image/png": "[encoded data removed]",
      "text/plain": [
       "<Figure size 432x288 with 1 Axes>"
      ]
     },
     "metadata": {
      "needs_background": "light"
     },
     "output_type": "display_data"
    },
    {
     "name": "stdout",
     "output_type": "stream",
     "text": [
      "(239, 131)\n",
      "(28, 28)\n"
     ]
    },
    {
     "data": {
      "image/png": "[encoded data removed]",
      "text/plain": [
       "<Figure size 432x288 with 1 Axes>"
      ]
     },
     "metadata": {
      "needs_background": "light"
     },
     "output_type": "display_data"
    },
    {
     "name": "stdout",
     "output_type": "stream",
     "text": [
      "(237, 153)\n",
      "(28, 28)\n"
     ]
    },
    {
     "data": {
      "image/png": "[encoded data removed]",
      "text/plain": [
       "<Figure size 432x288 with 1 Axes>"
      ]
     },
     "metadata": {
      "needs_background": "light"
     },
     "output_type": "display_data"
    }
   ],
   "source": [
    "nums28 = []\n",
    "w = im.shape[1]/10\n",
    "for i in nums:\n",
    "    if i.shape[0]/(i.shape[1]+0.1) < 10 and i.shape[0]/(i.shape[1]+0.1) > 0.1 and i.shape[1] > w:\n",
    "        print(i.shape)\n",
    "        viewImage(i, \"чб\")\n",
    "        im28 = to_mnist(i)\n",
    "        kernel = np.ones((1,1),np.uint8)\n",
    "        im28 = cv2.dilate(im28,kernel,iterations=1)\n",
    "        #im28 = cv2.erode(im28, kernel,iterations=1)\n",
    "        print(im28.shape)\n",
    "        nums28.append(im28)\n",
    "        plt.imshow(im28, cmap = matplotlib.cm.binary, interpolation='nearest')\n",
    "        plt.axis('off')\n",
    "        plt.show()"
   ]
  },
  {
   "cell_type": "markdown",
   "metadata": {},
   "source": [
    "обучение\\распаковка модели"
   ]
  },
  {
   "cell_type": "code",
   "execution_count": 12,
   "metadata": {},
   "outputs": [],
   "source": [
    "import pickle\n",
    "try:\n",
    "    clf = pickle.load(open(\"clf.p\", \"rb\"))\n",
    "except IOError:\n",
    "    from sklearn.decomposition import PCA\n",
    "    from sklearn.svm import SVC\n",
    "    from sklearn.pipeline import Pipeline # useful to tie the two together\n",
    "\n",
    "    train = pd.read_csv('train.csv')\n",
    "    target = train['label'].values\n",
    "    train.drop('label', axis=1, inplace=True)\n",
    "    train = train.values\n",
    "    for i in range(len(train)):\n",
    "        a = train[i].reshape(28,28)\n",
    "        a = del_null_rows(a,0)\n",
    "        a = del_null_cols(a,0)\n",
    "        a = to_mnist(a)\n",
    "        a = a.reshape(1,784)\n",
    "        train[i] = a\n",
    "    \n",
    "    \n",
    "    \n",
    "\n",
    "    # setting up the components\n",
    "    pca = ('pca', PCA(n_components = 50)) # I did play with the parameter\n",
    "    svc = ('svc', SVC(kernel = 'poly'))\n",
    "\n",
    "    # gluing into a pipe\n",
    "    estimators = [\n",
    "        pca,\n",
    "        svc\n",
    "    ]\n",
    "    clf = Pipeline(estimators)\n",
    "\n",
    "    clf.fit(train, target)\n",
    "    pickle.dump(clf, open(\"clf.p\", \"wb\"))"
   ]
  },
  {
   "cell_type": "markdown",
   "metadata": {},
   "source": [
    "from sklearn.model_selection import train_test_split\n",
    "features_train, features_test, labels_train, labels_test = train_test_split(train, target, test_size=0.2, random_state=42)\n",
    "\n",
    "clf.fit(features_train, labels_train)\n",
    "print(clf.score(features_test, labels_test))"
   ]
  },
  {
   "cell_type": "code",
   "execution_count": 13,
   "metadata": {
    "scrolled": true
   },
   "outputs": [
    {
     "data": {
      "text/plain": [
       "array([4, 6, 9], dtype=int64)"
      ]
     },
     "execution_count": 13,
     "metadata": {},
     "output_type": "execute_result"
    }
   ],
   "source": [
    "test = np.zeros(shape=(len(nums28),784))\n",
    "for i,num in enumerate(nums28):\n",
    "    num = np.reshape(num,784)\n",
    "    test[i] = num*255\n",
    "results = clf.predict(test)\n",
    "results"
   ]
  },
  {
   "cell_type": "code",
   "execution_count": null,
   "metadata": {},
   "outputs": [],
   "source": []
  }
 ],
 "metadata": {
  "kernelspec": {
   "display_name": "Python 3",
   "language": "python",
   "name": "python3"
  },
  "language_info": {
   "codemirror_mode": {
    "name": "ipython",
    "version": 3
   },
   "file_extension": ".py",
   "mimetype": "text/x-python",
   "name": "python",
   "nbconvert_exporter": "python",
   "pygments_lexer": "ipython3",
   "version": "3.7.3"
  }
 },
 "nbformat": 4,
 "nbformat_minor": 2
}
